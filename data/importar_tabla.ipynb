{
 "cells": [
  {
   "cell_type": "code",
   "execution_count": 10,
   "metadata": {},
   "outputs": [
    {
     "name": "stdout",
     "output_type": "stream",
     "text": [
      "hola\n",
      "Database conn successful\n",
      "Database conn successful\n"
     ]
    }
   ],
   "source": [
    "import psycopg2\n",
    "print('hola')\n",
    "def create_server_connection():\n",
    "    PGHOST='ep-noisy-hall-a8lac2eg.eastus2.azure.neon.tech'\n",
    "    PGDATABASE='data_powergen'\n",
    "    PGUSER='neondb_owner'\n",
    "    PGPASSWORD='0scdL2GCKBzX'\n",
    "\n",
    "    conn = None\n",
    "    try:\n",
    "        conn = psycopg2.connect(database=PGDATABASE, user=PGUSER, password=PGPASSWORD, host=PGHOST, port=5432)\n",
    "        print(\"Database conn successful\")\n",
    "    except Error as err:\n",
    "        print(f\"Error: '{err}'\")\n",
    "    return conn\n",
    "connection = create_server_connection()\n",
    "#Crear tabla\n",
    "connection.close()\n",
    "#crear tabla\n",
    "conn = create_server_connection()\n",
    "# Open a cursor to perform database operations\n",
    "cur = conn.cursor()\n",
    "# Execute a command: create datafund_students table\n",
    "try:\n",
    "    cur.execute(\"\"\"CREATE TABLE Historicos_Ordenes(\n",
    "                ID_Orden SERIAL PRIMARY KEY,\n",
    "                ID_Equipo VARCHAR (50), Fecha VARCHAR (50) NOT NULL,\n",
    "                Tipo_Mantenimiento VARCHAR (100) NOT NULL,\n",
    "                Tiempo_Reparacion_Horas INT NOT NULL,\n",
    "                Costo_Mantenimiento FLOAT NOT NULL,Ubicacion VARCHAR (50));\"\"\")\n",
    "# Make the changes to the database persistent\n",
    "    conn.commit()\n",
    "except Error as err:\n",
    "    print(f\"Error: '{err}'\")\n",
    "    conn.rollback()\n",
    "# Close cursor and communication with the database\n",
    "cur.close()\n",
    "conn.close()\n",
    "\n",
    "#Cargar datos\n",
    "conn = create_server_connection()\n",
    "# Open a cursor to perform database operations\n",
    "cur = conn.cursor()\n",
    "\n",
    "\n"
   ]
  },
  {
   "cell_type": "code",
   "execution_count": 24,
   "metadata": {},
   "outputs": [],
   "source": [
    "#lectura csv_ pasarlo a lista de listas\n",
    "import os, sys\n",
    "\n",
    "def leer_csv(ruta):\n",
    "    lista=None\n",
    "\n",
    "    try:\n",
    "        lista = open(ruta, 'r').readlines()\n",
    "        lista_limpia = list(map(lambda l: l.rstrip(), lista))\n",
    "\n",
    "    except Exception as err:\n",
    "        print('problema con acceso al archivo', err)\n",
    "\n",
    "    \n",
    "    lista2 = list(map(lambda l:l.split(','),lista))\n",
    "    \n",
    "    return lista2\n",
    "    \n",
    "\n",
    "lista3=leer_csv(\"Historicos_Ordenes.csv\")"
   ]
  },
  {
   "cell_type": "code",
   "execution_count": 22,
   "metadata": {},
   "outputs": [
    {
     "ename": "TypeError",
     "evalue": "unhashable type: 'list'",
     "output_type": "error",
     "traceback": [
      "\u001b[0;31m---------------------------------------------------------------------------\u001b[0m",
      "\u001b[0;31mTypeError\u001b[0m                                 Traceback (most recent call last)",
      "Cell \u001b[0;32mIn[22], line 9\u001b[0m\n\u001b[1;32m      7\u001b[0m \u001b[38;5;66;03m# Recorrer la lista y contar los IDs\u001b[39;00m\n\u001b[1;32m      8\u001b[0m \u001b[38;5;28;01mfor\u001b[39;00m \u001b[38;5;28mid\u001b[39m \u001b[38;5;129;01min\u001b[39;00m lista_ids:\n\u001b[0;32m----> 9\u001b[0m     \u001b[38;5;28;01mif\u001b[39;00m \u001b[38;5;28;43mid\u001b[39;49m\u001b[43m \u001b[49m\u001b[38;5;129;43;01min\u001b[39;49;00m\u001b[43m \u001b[49m\u001b[43mcontador_ids\u001b[49m:\n\u001b[1;32m     10\u001b[0m         contador_ids[\u001b[38;5;28mid\u001b[39m] \u001b[38;5;241m+\u001b[39m\u001b[38;5;241m=\u001b[39m \u001b[38;5;241m1\u001b[39m\n\u001b[1;32m     11\u001b[0m     \u001b[38;5;28;01melse\u001b[39;00m:\n",
      "\u001b[0;31mTypeError\u001b[0m: unhashable type: 'list'"
     ]
    }
   ],
   "source": [
    "# Lista de IDs\n",
    "lista_ids = \n",
    "\n",
    "# Diccionario para contar los IDs\n",
    "contador_ids = {}\n",
    "\n",
    "# Recorrer la lista y contar los IDs\n",
    "for id in lista_ids:\n",
    "    if id in contador_ids:\n",
    "        contador_ids[id] += 1\n",
    "    else:\n",
    "        contador_ids[id] = 1\n",
    "\n",
    "# Mostrar el resultado\n",
    "print(contador_ids)\n",
    "\n",
    "\n",
    "\n"
   ]
  },
  {
   "cell_type": "code",
   "execution_count": 30,
   "metadata": {},
   "outputs": [
    {
     "data": {
      "text/plain": [
       "{'E016': 478,\n",
       " 'E006': 473,\n",
       " 'E013': 496,\n",
       " 'E018': 498,\n",
       " 'E004': 539,\n",
       " 'E011': 483,\n",
       " 'E019': 516,\n",
       " 'E002': 485,\n",
       " 'E012': 470,\n",
       " 'E008': 531,\n",
       " 'E005': 502,\n",
       " 'E017': 532,\n",
       " 'E009': 507,\n",
       " 'E010': 537,\n",
       " 'E014': 464,\n",
       " 'E003': 506,\n",
       " 'E015': 495,\n",
       " 'E020': 516,\n",
       " 'E001': 487,\n",
       " 'E007': 485}"
      ]
     },
     "execution_count": 30,
     "metadata": {},
     "output_type": "execute_result"
    }
   ],
   "source": [
    "def contador_ids(datos):\n",
    "\n",
    "    dict1={}\n",
    "    for fila in datos:\n",
    "        equipo=fila[1]\n",
    "        if equipo not in dict1:\n",
    "            dict1[equipo]=0\n",
    "        dict1[equipo]+=1\n",
    "\n",
    "    return dict1\n",
    "\n",
    "\n",
    "contador_ids(lista3[1:])\n"
   ]
  }
 ],
 "metadata": {
  "kernelspec": {
   "display_name": "Python 3.8 - AzureML",
   "language": "python",
   "name": "python38-azureml"
  },
  "language_info": {
   "codemirror_mode": {
    "name": "ipython",
    "version": 3
   },
   "file_extension": ".py",
   "mimetype": "text/x-python",
   "name": "python",
   "nbconvert_exporter": "python",
   "pygments_lexer": "ipython3",
   "version": "3.10.11"
  }
 },
 "nbformat": 4,
 "nbformat_minor": 2
}
